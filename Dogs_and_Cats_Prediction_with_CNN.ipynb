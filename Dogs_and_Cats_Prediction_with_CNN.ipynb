{
  "nbformat": 4,
  "nbformat_minor": 0,
  "metadata": {
    "colab": {
      "name": "Dogs and Cats Prediction with CNN",
      "provenance": [],
      "include_colab_link": true
    },
    "kernelspec": {
      "name": "python3",
      "display_name": "Python 3"
    },
    "language_info": {
      "name": "python"
    }
  },
  "cells": [
    {
      "cell_type": "markdown",
      "metadata": {
        "id": "view-in-github",
        "colab_type": "text"
      },
      "source": [
        "<a href=\"https://colab.research.google.com/github/fhizal/Dogs-and-Cats-Prediction-With-CNN/blob/main/Dogs_and_Cats_Prediction_with_CNN.ipynb\" target=\"_parent\"><img src=\"https://colab.research.google.com/assets/colab-badge.svg\" alt=\"Open In Colab\"/></a>"
      ]
    },
    {
      "cell_type": "code",
      "metadata": {
        "colab": {
          "base_uri": "https://localhost:8080/"
        },
        "id": "BcAMaewKmmb9",
        "outputId": "6b96308f-9454-4b6e-af86-d1da0cbcb284"
      },
      "source": [
        "from google.colab import drive\n",
        "drive.mount(\"/content/drive\")"
      ],
      "execution_count": null,
      "outputs": [
        {
          "output_type": "stream",
          "name": "stdout",
          "text": [
            "Drive already mounted at /content/drive; to attempt to forcibly remount, call drive.mount(\"/content/drive\", force_remount=True).\n"
          ]
        }
      ]
    },
    {
      "cell_type": "code",
      "metadata": {
        "id": "3Ir2jMQyuMaO"
      },
      "source": [
        "import os"
      ],
      "execution_count": null,
      "outputs": []
    },
    {
      "cell_type": "code",
      "metadata": {
        "id": "DmyFt2yRzJsp"
      },
      "source": [
        "base_dir = \"/content/drive/MyDrive/Colab Notebooks/Kaggle/DogsVsCats/dogs-vs-cats_small\"\n",
        "#os.makedirs(base_dir)"
      ],
      "execution_count": null,
      "outputs": []
    },
    {
      "cell_type": "code",
      "metadata": {
        "colab": {
          "base_uri": "https://localhost:8080/",
          "height": 137
        },
        "id": "LstlVmtwoZKc",
        "outputId": "653ccac1-9c9b-40b0-c538-8ff80c82067c"
      },
      "source": [
        "import os, shutil\n",
        "\n",
        "original_dataset_dir=\"/content/drive/MyDrive/Colab Notebooks/Kaggle/DogsVsCats/train\"\n",
        "\n",
        "base_dir = \"/content/drive/MyDrive/Colab Notebooks/Kaggle/DogsVsCats/dogs-vs-cats_small\"\n",
        "#os.mkdir(base_dir)\n",
        "\n",
        "train_dir = os.path.join(base_dir, 'train')\n",
        "#os.mkdir(train_dir)\n",
        "\n",
        "validation_dir = os.path.join(base_dir, 'validation')\n",
        "#os.mkdir(validation_dir)\n",
        "\n",
        "test_dir = os.path.join(base_dir, 'test')\n",
        "#os.mkdir(test_dir)\n",
        "\n",
        "train_cats_dir = os.path.join(train_dir, 'cats')\n",
        "#os.mkdir(train_cats_dir)\n",
        "\n",
        "train_dogs_dir = os.path.join(train_dir, 'dogs')\n",
        "#os.mkdir(train_dogs_dir)\n",
        "\n",
        "validation_cats_dir = os.path.join(validation_dir, 'cats')\n",
        "#os.mkdir(validation_cats_dir)\n",
        "\n",
        "validation_dogs_dir = os.path.join(validation_dir, 'dogs')\n",
        "#os.mkdir(validation_dogs_dir)\n",
        "\n",
        "test_cats_dir = os.path.join(test_dir, 'cats')\n",
        "#os.mkdir(test_cats_dir)\n",
        "\n",
        "test_dogs_dir = os.path.join(test_dir, 'dogs')\n",
        "#os.mkdir(test_dogs_dir)\n",
        "\"\"\"\n",
        "fnames = ['cat.{}.jpg'.format(i) for i in range(1000)]\n",
        "for fname in fnames:\n",
        "    src = os.path.join(original_dataset_dir, fname)\n",
        "    dst = os.path.join(train_cats_dir, fname)\n",
        "    shutil.copyfile(src, dst)\n",
        "\n",
        "fnames = ['cat.{}.jpg'.format(i) for i in range(1000, 1500)]\n",
        "for fname in fnames:\n",
        "    src = os.path.join(original_dataset_dir, fname)\n",
        "    dst = os.path.join(validation_cats_dir, fname)\n",
        "    shutil.copyfile(src, dst)\n",
        "fnames = ['cat.{}.jpg'.format(i) for i in range(1500, 2000)]\n",
        "\n",
        "for fname in fnames:\n",
        "    src = os.path.join(original_dataset_dir, fname)\n",
        "    dst = os.path.join(test_cats_dir, fname)\n",
        "    shutil.copyfile(src, dst)\n",
        "\n",
        "fnames = ['dog.{}.jpg'.format(i) for i in range(1000)]\n",
        "for fname in fnames:\n",
        "    src = os.path.join(original_dataset_dir, fname)\n",
        "    dst = os.path.join(train_dogs_dir, fname)\n",
        "    shutil.copyfile(src, dst)\n",
        "\n",
        "fnames = ['dog.{}.jpg'.format(i) for i in range(1000, 1500)]\n",
        "for fname in fnames:\n",
        "    src = os.path.join(original_dataset_dir, fname)\n",
        "    dst = os.path.join(validation_dogs_dir, fname)\n",
        "    shutil.copyfile(src, dst)\n",
        "\n",
        "fnames = ['dog.{}.jpg'.format(i) for i in range(1500, 2000)]\n",
        "for fname in fnames:\n",
        "    src = os.path.join(original_dataset_dir, fname)\n",
        "    dst = os.path.join(test_dogs_dir, fname)\n",
        "    shutil.copyfile(src, dst)\n",
        "\n",
        "print('total training cat images:', len(os.listdir(train_cats_dir)))\n",
        "#total training cat images: 1000\n",
        "print('total training dog images:', len(os.listdir(train_dogs_dir)))\n",
        "#total training dog images: 1000\n",
        "print('total validation cat images:', len(os.listdir(validation_cats_dir)))\n",
        "#total validation cat images: 500\n",
        "print('total validation dog images:', len(os.listdir(validation_dogs_dir)))\n",
        "#total validation dog images: 500\n",
        "print('total test cat images:', len(os.listdir(test_cats_dir)))\n",
        "#total test cat images: 500\n",
        "print('total test dog images:', len(os.listdir(test_dogs_dir)))\n",
        "#total test dog images: 500\n",
        "\"\"\""
      ],
      "execution_count": null,
      "outputs": [
        {
          "output_type": "execute_result",
          "data": {
            "application/vnd.google.colaboratory.intrinsic+json": {
              "type": "string"
            },
            "text/plain": [
              "\"\\nfnames = ['cat.{}.jpg'.format(i) for i in range(1000)]\\nfor fname in fnames:\\n    src = os.path.join(original_dataset_dir, fname)\\n    dst = os.path.join(train_cats_dir, fname)\\n    shutil.copyfile(src, dst)\\n\\nfnames = ['cat.{}.jpg'.format(i) for i in range(1000, 1500)]\\nfor fname in fnames:\\n    src = os.path.join(original_dataset_dir, fname)\\n    dst = os.path.join(validation_cats_dir, fname)\\n    shutil.copyfile(src, dst)\\nfnames = ['cat.{}.jpg'.format(i) for i in range(1500, 2000)]\\n\\nfor fname in fnames:\\n    src = os.path.join(original_dataset_dir, fname)\\n    dst = os.path.join(test_cats_dir, fname)\\n    shutil.copyfile(src, dst)\\n\\nfnames = ['dog.{}.jpg'.format(i) for i in range(1000)]\\nfor fname in fnames:\\n    src = os.path.join(original_dataset_dir, fname)\\n    dst = os.path.join(train_dogs_dir, fname)\\n    shutil.copyfile(src, dst)\\n\\nfnames = ['dog.{}.jpg'.format(i) for i in range(1000, 1500)]\\nfor fname in fnames:\\n    src = os.path.join(original_dataset_dir, fname)\\n    dst = os.path.join(validation_dogs_dir, fname)\\n    shutil.copyfile(src, dst)\\n\\nfnames = ['dog.{}.jpg'.format(i) for i in range(1500, 2000)]\\nfor fname in fnames:\\n    src = os.path.join(original_dataset_dir, fname)\\n    dst = os.path.join(test_dogs_dir, fname)\\n    shutil.copyfile(src, dst)\\n\\nprint('total training cat images:', len(os.listdir(train_cats_dir)))\\n#total training cat images: 1000\\nprint('total training dog images:', len(os.listdir(train_dogs_dir)))\\n#total training dog images: 1000\\nprint('total validation cat images:', len(os.listdir(validation_cats_dir)))\\n#total validation cat images: 500\\nprint('total validation dog images:', len(os.listdir(validation_dogs_dir)))\\n#total validation dog images: 500\\nprint('total test cat images:', len(os.listdir(test_cats_dir)))\\n#total test cat images: 500\\nprint('total test dog images:', len(os.listdir(test_dogs_dir)))\\n#total test dog images: 500\\n\""
            ]
          },
          "metadata": {},
          "execution_count": 4
        }
      ]
    },
    {
      "cell_type": "code",
      "metadata": {
        "id": "aZu803RT2gx8"
      },
      "source": [
        "from tensorflow.keras import layers\n",
        "from tensorflow.keras import models\n",
        "\n",
        "model= models.Sequential()\n",
        "model.add(layers.Conv2D(32, (3,3), activation='relu',\n",
        "                        input_shape=(150,150, 3)))\n",
        "model.add(layers.MaxPooling2D((2,2)))\n",
        "model.add(layers.Conv2D(64, (3,3), activation='relu'))\n",
        "model.add(layers.MaxPooling2D((2,2)))\n",
        "model.add(layers.Conv2D(128, (3,3), activation='relu'))\n",
        "model.add(layers.MaxPooling2D((2,2)))\n",
        "model.add(layers.Conv2D(128, (3,3), activation='relu'))\n",
        "model.add(layers.MaxPooling2D((2,2)))\n",
        "model.add(layers.Flatten())\n",
        "model.add(layers.Dense(512, activation='relu'))\n",
        "model.add(layers.Dense(1, activation='sigmoid'))\n",
        "\n",
        "#model.summary()"
      ],
      "execution_count": null,
      "outputs": []
    },
    {
      "cell_type": "code",
      "metadata": {
        "id": "CksOZAGb3b14"
      },
      "source": [
        "from tensorflow.keras import optimizers"
      ],
      "execution_count": null,
      "outputs": []
    },
    {
      "cell_type": "code",
      "metadata": {
        "colab": {
          "base_uri": "https://localhost:8080/"
        },
        "id": "Eo4399La3N_l",
        "outputId": "2912cb81-05fb-43d4-d150-224371d9a06f"
      },
      "source": [
        "model.compile(loss='binary_crossentropy',\n",
        "              optimizer=optimizers.RMSprop(lr=1e-4),\n",
        "              metrics=['acc'])\n",
        "\n",
        "from tensorflow.keras.preprocessing.image import ImageDataGenerator\n",
        "\n",
        "train_datagen = ImageDataGenerator(rescale=1./255)\n",
        "test_datagen = ImageDataGenerator(rescale=1./255)\n",
        "\n",
        "train_generator = train_datagen.flow_from_directory(\n",
        "                                train_dir,\n",
        "                                target_size=(150, 150),\n",
        "                                batch_size=20,\n",
        "                                class_mode='binary')\n",
        "validation_generator = test_datagen.flow_from_directory(\n",
        "                                validation_dir,\n",
        "                                target_size=(150, 150),\n",
        "                                batch_size=20,\n",
        "                                class_mode='binary')\n",
        "\n",
        "history = model.fit_generator(\n",
        "train_generator,\n",
        "steps_per_epoch=100,\n",
        "epochs=30,\n",
        "validation_data=validation_generator,\n",
        "validation_steps=50)\n",
        "\n",
        "model.save('cats_and_dogs_small_1.h5')"
      ],
      "execution_count": null,
      "outputs": [
        {
          "output_type": "stream",
          "name": "stderr",
          "text": [
            "/usr/local/lib/python3.7/dist-packages/keras/optimizer_v2/optimizer_v2.py:356: UserWarning: The `lr` argument is deprecated, use `learning_rate` instead.\n",
            "  \"The `lr` argument is deprecated, use `learning_rate` instead.\")\n"
          ]
        },
        {
          "output_type": "stream",
          "name": "stdout",
          "text": [
            "Found 2000 images belonging to 2 classes.\n",
            "Found 1000 images belonging to 2 classes.\n"
          ]
        },
        {
          "output_type": "stream",
          "name": "stderr",
          "text": [
            "/usr/local/lib/python3.7/dist-packages/keras/engine/training.py:1972: UserWarning: `Model.fit_generator` is deprecated and will be removed in a future version. Please use `Model.fit`, which supports generators.\n",
            "  warnings.warn('`Model.fit_generator` is deprecated and '\n"
          ]
        },
        {
          "output_type": "stream",
          "name": "stdout",
          "text": [
            "Epoch 1/30\n",
            "100/100 [==============================] - 1073s 11s/step - loss: 0.6886 - acc: 0.5410 - val_loss: 0.6725 - val_acc: 0.5750\n",
            "Epoch 2/30\n",
            "100/100 [==============================] - 101s 1s/step - loss: 0.6575 - acc: 0.6005 - val_loss: 0.6433 - val_acc: 0.6330\n",
            "Epoch 3/30\n",
            "100/100 [==============================] - 101s 1s/step - loss: 0.6053 - acc: 0.6750 - val_loss: 0.6167 - val_acc: 0.6510\n",
            "Epoch 4/30\n",
            "100/100 [==============================] - 102s 1s/step - loss: 0.5672 - acc: 0.7060 - val_loss: 0.6104 - val_acc: 0.6590\n",
            "Epoch 5/30\n",
            "100/100 [==============================] - 101s 1s/step - loss: 0.5308 - acc: 0.7415 - val_loss: 0.5643 - val_acc: 0.7000\n",
            "Epoch 6/30\n",
            "100/100 [==============================] - 101s 1s/step - loss: 0.5103 - acc: 0.7480 - val_loss: 0.5654 - val_acc: 0.6930\n",
            "Epoch 7/30\n",
            "100/100 [==============================] - 101s 1s/step - loss: 0.4759 - acc: 0.7720 - val_loss: 0.5517 - val_acc: 0.7060\n",
            "Epoch 8/30\n",
            "100/100 [==============================] - 101s 1s/step - loss: 0.4481 - acc: 0.7885 - val_loss: 0.6183 - val_acc: 0.6930\n",
            "Epoch 9/30\n",
            "100/100 [==============================] - 101s 1s/step - loss: 0.4200 - acc: 0.8030 - val_loss: 0.5551 - val_acc: 0.6990\n",
            "Epoch 10/30\n",
            "100/100 [==============================] - 101s 1s/step - loss: 0.3977 - acc: 0.8175 - val_loss: 0.5436 - val_acc: 0.7380\n",
            "Epoch 11/30\n",
            "100/100 [==============================] - 101s 1s/step - loss: 0.3787 - acc: 0.8410 - val_loss: 0.5402 - val_acc: 0.7320\n",
            "Epoch 12/30\n",
            "100/100 [==============================] - 101s 1s/step - loss: 0.3501 - acc: 0.8480 - val_loss: 0.5389 - val_acc: 0.7430\n",
            "Epoch 13/30\n",
            "100/100 [==============================] - 101s 1s/step - loss: 0.3241 - acc: 0.8640 - val_loss: 0.5445 - val_acc: 0.7310\n",
            "Epoch 14/30\n",
            "100/100 [==============================] - 101s 1s/step - loss: 0.3006 - acc: 0.8770 - val_loss: 0.5670 - val_acc: 0.7360\n",
            "Epoch 15/30\n",
            "100/100 [==============================] - 102s 1s/step - loss: 0.2804 - acc: 0.8895 - val_loss: 0.5591 - val_acc: 0.7470\n",
            "Epoch 16/30\n",
            "100/100 [==============================] - 103s 1s/step - loss: 0.2577 - acc: 0.8950 - val_loss: 0.5679 - val_acc: 0.7400\n",
            "Epoch 17/30\n",
            "100/100 [==============================] - 101s 1s/step - loss: 0.2396 - acc: 0.8995 - val_loss: 0.6247 - val_acc: 0.7330\n",
            "Epoch 18/30\n",
            "100/100 [==============================] - 101s 1s/step - loss: 0.2137 - acc: 0.9175 - val_loss: 0.6285 - val_acc: 0.7380\n",
            "Epoch 19/30\n",
            "100/100 [==============================] - 101s 1s/step - loss: 0.1955 - acc: 0.9255 - val_loss: 0.6608 - val_acc: 0.7340\n",
            "Epoch 20/30\n",
            "100/100 [==============================] - 101s 1s/step - loss: 0.1693 - acc: 0.9385 - val_loss: 0.6281 - val_acc: 0.7310\n",
            "Epoch 21/30\n",
            "100/100 [==============================] - 101s 1s/step - loss: 0.1571 - acc: 0.9460 - val_loss: 0.7897 - val_acc: 0.7150\n",
            "Epoch 22/30\n",
            "100/100 [==============================] - 101s 1s/step - loss: 0.1411 - acc: 0.9485 - val_loss: 0.6607 - val_acc: 0.7340\n",
            "Epoch 23/30\n",
            "100/100 [==============================] - 101s 1s/step - loss: 0.1234 - acc: 0.9590 - val_loss: 0.7126 - val_acc: 0.7390\n",
            "Epoch 24/30\n",
            "100/100 [==============================] - 101s 1s/step - loss: 0.1059 - acc: 0.9645 - val_loss: 0.7679 - val_acc: 0.7340\n",
            "Epoch 25/30\n",
            "100/100 [==============================] - 101s 1s/step - loss: 0.0905 - acc: 0.9740 - val_loss: 0.8442 - val_acc: 0.7250\n",
            "Epoch 26/30\n",
            "100/100 [==============================] - 101s 1s/step - loss: 0.0739 - acc: 0.9805 - val_loss: 0.7899 - val_acc: 0.7400\n",
            "Epoch 27/30\n",
            "100/100 [==============================] - 101s 1s/step - loss: 0.0670 - acc: 0.9805 - val_loss: 0.8455 - val_acc: 0.7350\n",
            "Epoch 28/30\n",
            "100/100 [==============================] - 101s 1s/step - loss: 0.0588 - acc: 0.9835 - val_loss: 0.9092 - val_acc: 0.7300\n",
            "Epoch 29/30\n",
            "100/100 [==============================] - 101s 1s/step - loss: 0.0486 - acc: 0.9870 - val_loss: 1.0176 - val_acc: 0.7270\n",
            "Epoch 30/30\n",
            "100/100 [==============================] - 101s 1s/step - loss: 0.0434 - acc: 0.9890 - val_loss: 0.9631 - val_acc: 0.7230\n"
          ]
        }
      ]
    },
    {
      "cell_type": "code",
      "metadata": {
        "id": "qG3xPeOl-FL1"
      },
      "source": [
        "import matplotlib.pyplot as plt\n",
        "\n",
        "\n",
        "acc = history.history['acc']\n",
        "val_acc = history.history['val_acc']\n",
        "loss = history.history['loss']\n",
        "val_loss = history.history['val_loss']\n",
        "epochs = range(1, len(acc) + 1)\n",
        "\n",
        "plt.plot(epochs, acc, 'bo', label='Training acc')\n",
        "plt.plot(epochs, val_acc, 'b', label='Validation acc')\n",
        "plt.title('Training and validation accuracy')\n",
        "\n",
        "plt.legend()\n",
        "plt.figure()\n",
        "\n",
        "plt.plot(epochs, loss, 'bo', label='Training loss')\n",
        "plt.plot(epochs, val_loss, 'b', label='Validation loss')\n",
        "plt.title('Training and validation loss')\n",
        "\n",
        "plt.legend()\n",
        "plt.show()"
      ],
      "execution_count": null,
      "outputs": []
    },
    {
      "cell_type": "code",
      "metadata": {
        "id": "hK9hOt-J7iEh"
      },
      "source": [
        "datagen = ImageDataGenerator(\n",
        "rotation_range=40,\n",
        "width_shift_range=0.2,\n",
        "height_shift_range=0.2,\n",
        "shear_range=0.2,\n",
        "zoom_range=0.2,\n",
        "horizontal_flip=True,\n",
        "fill_mode='nearest')"
      ],
      "execution_count": null,
      "outputs": []
    },
    {
      "cell_type": "code",
      "metadata": {
        "id": "HWiDM-MB-pYG"
      },
      "source": [
        "from keras.preprocessing import image\n",
        "fnames = [os.path.join(train_cats_dir, fname) for\n",
        "fname in os.listdir(train_cats_dir)]\n",
        "img_path = fnames[3]\n",
        "img = image.load_img(img_path, target_size=(150, 150))\n",
        "x = image.img_to_array(img)\n",
        "x = x.reshape((1,) + x.shape)\n",
        "i=0\n",
        "\n",
        "for batch in datagen.flow(x, batch_size=1):\n",
        "  plt.figure(i)\n",
        "  imgplot = plt.imshow(image.array_to_img(batch[0]))\n",
        "  i += 1\n",
        "  if i % 4 == 0:\n",
        "    break\n",
        "\n",
        "plt.show()"
      ],
      "execution_count": null,
      "outputs": []
    },
    {
      "cell_type": "code",
      "metadata": {
        "id": "Q_LKNOMl_F5X"
      },
      "source": [
        "model = models.Sequential()\n",
        "model.add(layers.Conv2D(32, (3, 3), activation='relu',\n",
        "input_shape=(150, 150, 3)))\n",
        "model.add(layers.MaxPooling2D((2, 2)))\n",
        "model.add(layers.Conv2D(64, (3, 3), activation='relu'))\n",
        "model.add(layers.MaxPooling2D((2, 2)))\n",
        "model.add(layers.Conv2D(128, (3, 3), activation='relu'))\n",
        "model.add(layers.MaxPooling2D((2, 2)))\n",
        "model.add(layers.Conv2D(128, (3, 3), activation='relu'))\n",
        "model.add(layers.MaxPooling2D((2, 2)))\n",
        "model.add(layers.Flatten())\n",
        "model.add(layers.Dropout(0.5))\n",
        "model.add(layers.Dense(512, activation='relu'))\n",
        "model.add(layers.Dense(1, activation='sigmoid'))\n",
        "model.compile(loss='binary_crossentropy',\n",
        "optimizer=optimizers.RMSprop(lr=1e-4),\n",
        "metrics=['acc'])"
      ],
      "execution_count": null,
      "outputs": []
    },
    {
      "cell_type": "code",
      "metadata": {
        "id": "LVrivJoR_OMk"
      },
      "source": [
        "train_datagen = ImageDataGenerator(\n",
        "rescale=1./255,\n",
        "rotation_range=40,\n",
        "width_shift_range=0.2,\n",
        "height_shift_range=0.2,\n",
        "shear_range=0.2,\n",
        "zoom_range=0.2,\n",
        "horizontal_flip=True,)\n",
        "test_datagen = ImageDataGenerator(rescale=1./255)\n",
        "train_generator = train_datagen.flow_from_directory(\n",
        "train_dir,\n",
        "target_size=(150, 150),\n",
        "batch_size=32,\n",
        "class_mode='binary')\n",
        "validation_generator = test_datagen.flow_from_directory(\n",
        "validation_dir,\n",
        "target_size=(150, 150),\n",
        "batch_size=32,\n",
        "class_mode='binary')\n",
        "history = model.fit_generator(\n",
        "train_generator,\n",
        "steps_per_epoch=100,\n",
        "epochs=100,\n",
        "validation_data=validation_generator,\n",
        "validation_steps=50)"
      ],
      "execution_count": null,
      "outputs": []
    },
    {
      "cell_type": "code",
      "metadata": {
        "id": "L9_67Sfs_Rd5"
      },
      "source": [
        "model.save('cats_and_dogs_small_2.h5')"
      ],
      "execution_count": null,
      "outputs": []
    },
    {
      "cell_type": "code",
      "metadata": {
        "id": "QDhPByIt_SAz"
      },
      "source": [
        ""
      ],
      "execution_count": null,
      "outputs": []
    }
  ]
}